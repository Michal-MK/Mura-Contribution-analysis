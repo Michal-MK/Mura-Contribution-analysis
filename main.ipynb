{
 "cells": [
  {
   "cell_type": "markdown",
   "metadata": {},
   "source": [
    "# Moth - Mura\n",
    "MUNI Omniscient Tutor Helper - Masaryk University Repository Analyzer\n",
    "\n",
    "This tool was created as a part of the thesis *\"Measuring Software Development Contributions using Git\"* thesis at Masaryk University.\n",
    "The goal of this tool is to analyze git repositories of students and provide useful information to tutor about their work.\n",
    "\n",
    "The implementation is originally written in Python 3.9 and uses the following libraries without which the tool would not be possible:\n",
    "- [levenshtein](https://pypi.org/project/python-Levenshtein/) - for fuzzy matching in syntactic analysis\n",
    "- [GitPython](https://gitpython.readthedocs.io/en/stable/) - for git operations\n",
    "- [python-gitlab](https://python-gitlab.readthedocs.io/en/stable/) - for interfacing with GitLab\n",
    "- [PyGithub](https://pygithub.readthedocs.io/en/latest/) - for interfacing with GitHub\n",
    "- [matplotlib](https://matplotlib.org/) - for plotting various graphs\n",
    "- [notebook](https://jupyter.org/) - for the front-end you are currently using\n",
    "\n",
    "Below are the necessary imports for the tool to work."
   ]
  },
  {
   "cell_type": "code",
   "execution_count": null,
   "metadata": {},
   "outputs": [],
   "source": [
    "import fs_access as file_system\n",
    "import lib\n",
    "import mura\n",
    "import configuration\n",
    "import semantic_analysis\n",
    "\n",
    "from uni_chars import *  # shortcut for unicode characters used throughout the tool\n",
    "from history_analyzer import CommitRange\n",
    "\n",
    "from IPython.display import display, HTML\n",
    "\n",
    "display(HTML(\"<style>.container { width:100% !important; }</style>\"))  # wide screen support\n",
    "\n",
    "# macros for automagically reloading the modules when they are changed\n",
    "%load_ext autoreload\n",
    "%autoreload 2\n",
    "\n",
    "print(f\"{SUCCESS} Imports loaded successfully.\")"
   ]
  },
  {
   "cell_type": "markdown",
   "metadata": {},
   "source": [
    "<a id='toc'></a>\n",
    "# Table of contents\n",
    "## Setup\n",
    "- [Configuration](#configuration)\n",
    "- [Repository setup](#repository)\n",
    "- [Contributors](#contributors)\n",
    "- [Config Overrides](#overrides)\n",
    "- [Analysis](#analysis)\n",
    "## Results\n",
    "- [Commits](#commits)\n",
    "- [Commit Graph](#commit-graph)\n",
    "- [File statistics](#file-stats)\n",
    "- [File ownership](#percentage-ownership)\n",
    "- [File ownership dir-tree](#ownership-dir-tree)\n",
    "- [Line distribution](#lines)\n",
    "- [Unmerged commits](#unmerged-commits)\n",
    "- [Rules](#rules)\n",
    "- [Syntax](#syntax)\n",
    "- [Semantics](#semantics)\n",
    "- [Constructs](#constructs)\n",
    "- [Hour estimation](#hour-estimation)\n",
    "- [Remote repository](#remote-repo)\n",
    "- [Summary](#summary)"
   ]
  },
  {
   "cell_type": "markdown",
   "metadata": {},
   "source": [
    "<a id='configuration'></a>\n",
    "# Configuration [↩](#toc)\n",
    "\n",
    "The following code block is a shortcut for opening the configuration folder. The configuration folder contains configuration.txt with general variables and a rules.txt which holds rules to use during ownership analysis.\n"
   ]
  },
  {
   "cell_type": "code",
   "execution_count": null,
   "metadata": {},
   "outputs": [],
   "source": [
    "# configuration.open_configuration_folder()"
   ]
  },
  {
   "cell_type": "markdown",
   "metadata": {},
   "source": [
    "\n",
    "Apart from the two files mentioned before, separate folders exist for `lang-syntax` and `lang-semantics`. Each definition of a language is stored in a file/folder matching the language's file extension.\n",
    "The `lang-syntax` folder contains weight definitions for the language's syntax.\n",
    "The `lang-semantics` folder contains weight definitions for semantics and semantic analyzers themselves as an executable and a launch command for interfacing with the driver python code.\n",
    "A separate folder `remote-repo-weights` contains weight definitions for remote repository objects: Issues and Pull Requests.\n",
    "\n",
    "## Configuration file\n",
    "- `configuration_data/configuration.txt` - contains general configuration of the tool\n",
    "- `lang-syntax/*` - contains weight definitions for general syntax of a language\n",
    "- `lang-semantics/*` - contains weight definitions for semantic constructs\n",
    "- `remote-repo-weigths/weights.txt` - contains weight definitions for remote repository objects\n",
    "\n",
    "## Rules file\n",
    "\n",
    "- `configuration_data/rules.txt` - contains rules for the tool\n",
    "\n",
    "Once the configuration is set, run the code block below to load the configurations into the tool."
   ]
  },
  {
   "cell_type": "code",
   "execution_count": null,
   "metadata": {},
   "outputs": [],
   "source": [
    "config = configuration.validate()\n",
    "\n",
    "# All properties of the config can be edited here. An editor with code completion support is recommended.\n",
    "# config.ignore_remote_repo = True\n",
    "\n",
    "# Add extensions to the list to ignore during analysis, provide extensions will not be analyzer even if an analyzer is present.\n",
    "config.ignored_extensions = ['.cs']"
   ]
  },
  {
   "cell_type": "markdown",
   "metadata": {},
   "source": [
    "Semantic analyzers for each extension are executed only if the extension is present in the repository. Therefore, it is not required to have all the prerequisites installed if the project does not include those extensions."
   ]
  },
  {
   "cell_type": "markdown",
   "metadata": {},
   "source": [
    "<a id='repository'></a>\n",
    "# Repository [↩](#toc)\n",
    "\n",
    "Put the path to the repository you want to analyze into the `repository_path` variable and run the code block below."
   ]
  },
  {
   "cell_type": "code",
   "execution_count": null,
   "metadata": {},
   "outputs": [],
   "source": [
    "repository_path = r\"/path/to/the/repository/directory\"\n",
    "\n",
    "repository = file_system.validate_repository(repository_path, config)"
   ]
  },
  {
   "cell_type": "markdown",
   "metadata": {},
   "source": [
    "<a id='commit-range'></a>\n",
    "# Commit range [↩](#toc)\n",
    "The commit range is defined by the `start` and `end` variables. The variables can be either a commit hash or a tag/branch name.\n",
    "Additionally, the `end` variable can be set to `ROOT` and `start` to `HEAD` to analyze the repository from the beginning to the current state."
   ]
  },
  {
   "cell_type": "code",
   "execution_count": null,
   "metadata": {},
   "outputs": [],
   "source": [
    "start = \"HEAD\"\n",
    "end = \"ROOT\"\n",
    "\n",
    "commit_range = CommitRange(repository, start, end, verbose=True)\n",
    "\n",
    "# The expected amount of hours students are expected to spend on the project, used for hour weight estimation.\n",
    "hour_estimate_per_contributor = 24"
   ]
  },
  {
   "cell_type": "markdown",
   "metadata": {},
   "source": [
    "<a id='contributors'></a>\n",
    "## Contributors [↩](#toc)\n",
    "Displays a table of all contributors in the repository. The table contains the following information:\n",
    "- Name\n",
    "- Email\n",
    "- Aliases\n",
    "\n",
    "Aliases are put in place to group contributors who do not have a synchronized git configuration across all development devices. The aliases are used to match the contributors. If an alias matches commit author, the primary contributor name is used instead. Primary in this case meaning the first encounter."
   ]
  },
  {
   "cell_type": "code",
   "execution_count": null,
   "metadata": {},
   "outputs": [],
   "source": [
    "raw_contributors = mura.display_contributor_info(commit_range, config)"
   ]
  },
  {
   "cell_type": "markdown",
   "metadata": {},
   "source": [
    "## Contributors\n",
    "\n",
    "Often times contributors do not have a synchronized git configuration across all development devices. This can lead to the tool not being able to properly group contributions to the correct contributor. The tool attempts to match contributors by their name and email. If that is not enough an explicit name-to-name mapping can be provided in the `contributor_map` variable."
   ]
  },
  {
   "cell_type": "code",
   "execution_count": null,
   "metadata": {},
   "outputs": [],
   "source": [
    "contributor_map = \\\n",
    "[\n",
    "    # ('Jiří Šťastný', 'Jiri Stastny'),\n",
    "]\n",
    "\n",
    "config.contributor_map = contributor_map\n",
    "\n",
    "contributors = mura.display_contributor_info(commit_range, config)"
   ]
  },
  {
   "cell_type": "markdown",
   "metadata": {},
   "source": [
    "<a id='overrides'></a>\n",
    "## Overrides [↩](#toc)\n",
    "In case merge conflicts occur, the file ownership is contributed towards the author of the resolving commit. This can lead to incorrect ownership attribution. To fix this, the ownership can be overridden by the following code block. The key is the complete commit hash and the value is the contributor name."
   ]
  },
  {
   "cell_type": "code",
   "execution_count": null,
   "metadata": {},
   "outputs": [],
   "source": [
    "commit_range.ownership_overrides[\"commit_hexsha\"] = \"Jiri Stastny\"\n",
    "\n",
    "# Uncomment the following line to enable anonymous mode, which will replace the names of the contributors with \"Contributor #n\"\n",
    "# config.anonymous_mode = True\n",
    "\n",
    "# Uncomment the following line to force skip analysis of a specific extension, e.g. \".cs\".\n",
    "# config.ignored_extensions = [\".cs\"]\n"
   ]
  },
  {
   "cell_type": "markdown",
   "metadata": {},
   "source": [
    "<a id='analysis'></a>\n",
    "# Analysis [↩](#toc)\n",
    "The analysis is a time-consuming process. Taking longer the larger the repository is. For a single project from the PA165 course for Milestone 1 (120 commits), the analysis took about 35 seconds on an Intel i7-12700H CPU."
   ]
  },
  {
   "cell_type": "code",
   "execution_count": null,
   "metadata": {
    "scrolled": true
   },
   "outputs": [],
   "source": [
    "tracked_files = lib.get_tracked_files(repository, verbose=True)\n",
    "history_analysis_result = commit_range.analyze(verbose=True)\n",
    "semantic_analysis_grouped_result = semantic_analysis.compute_semantic_weight_result(config, tracked_files, verbose=True)"
   ]
  },
  {
   "cell_type": "markdown",
   "metadata": {},
   "source": [
    "# Results\n",
    "\n",
    "The analysis part is finished. The tool provides multiple outputs to help the tutor analyze the students' work. Each output is a separate function code block. Seach section links back to the Table of Contents to make it easier to navigate."
   ]
  },
  {
   "cell_type": "markdown",
   "metadata": {},
   "source": [
    "<a id='commits'></a>\n",
    "## Commits [↩](#toc)"
   ]
  },
  {
   "cell_type": "code",
   "execution_count": null,
   "metadata": {},
   "outputs": [],
   "source": [
    "commit_distribution, insertions_deletions = mura.commit_info(commit_range, repository, contributors)"
   ]
  },
  {
   "cell_type": "code",
   "execution_count": null,
   "metadata": {},
   "outputs": [],
   "source": [
    "mura.insertions_deletions_info(insertions_deletions)"
   ]
  },
  {
   "cell_type": "markdown",
   "metadata": {},
   "source": [
    "<a id='commit-graph'></a>\n",
    "## Commit graph [↩](#toc)\n",
    "Displays a graph of the commits in the repository. The range of the x-axis is computed from the starting commit date and the ending commit date.\n",
    "To display only a section of the graph, the list can be sliced. This is generally useful when there are commits at the boundaries. Taking a section in the middle does not make much sense."
   ]
  },
  {
   "cell_type": "code",
   "execution_count": null,
   "metadata": {},
   "outputs": [],
   "source": [
    "commits = [commit for commit in commit_range]\n",
    "\n",
    "commits = commits[1:]  # remove first commit\n",
    "# commits = commits[:10] # remove last 10 commits\n",
    "\n",
    "mura.plot_commits(commits, commit_range, contributors, repository, force_x_axis_labels=False)"
   ]
  },
  {
   "cell_type": "markdown",
   "metadata": {},
   "source": [
    "<a id='file-stats'></a>\n",
    "## File statistics [↩](#toc)\n",
    "First part of the output is a combined statistics of all file changes in the repository.\n",
    "\n",
    "- A: Files Added\n",
    "- D: Files Deleted\n",
    "- M: Files Modified\n",
    "- R: Files Renamed\n",
    "\n",
    "The statistics are cumulative. Meaning if a file is added and in any subsequent commit it is deleted, the file is counted towards both statistics."
   ]
  },
  {
   "cell_type": "code",
   "execution_count": null,
   "metadata": {
    "scrolled": true
   },
   "outputs": [],
   "source": [
    "flagged_files = mura.file_statistics_info(commit_range, contributors)"
   ]
  },
  {
   "cell_type": "markdown",
   "metadata": {},
   "source": [
    "<a id='percentage-ownership'></a>\n",
    "## Percentages and ownership [↩](#toc)"
   ]
  },
  {
   "cell_type": "code",
   "execution_count": null,
   "metadata": {},
   "outputs": [],
   "source": [
    "percentage, ownership = mura.percentage_info(history_analysis_result, contributors, config)"
   ]
  },
  {
   "cell_type": "markdown",
   "metadata": {},
   "source": [
    "<a id='ownership-dir-tree'></a>\n",
    "## Ownership as a directory tree [↩](#toc)"
   ]
  },
  {
   "cell_type": "code",
   "execution_count": null,
   "metadata": {},
   "outputs": [],
   "source": [
    "mura.display_dir_tree(config, percentage, repository)"
   ]
  },
  {
   "cell_type": "markdown",
   "metadata": {},
   "source": [
    "<a id='lines'></a>\n",
    "## Lines, Blanks and Comments [↩](#toc)"
   ]
  },
  {
   "cell_type": "code",
   "execution_count": null,
   "metadata": {},
   "outputs": [],
   "source": [
    "mura.lines_blanks_comments_info(repository, ownership, semantic_analysis_grouped_result, tracked_files, contributors)"
   ]
  },
  {
   "cell_type": "markdown",
   "metadata": {},
   "source": [
    "<a id='unmerged-commits'></a>\n",
    "## Unmerged commits [↩](#toc)"
   ]
  },
  {
   "cell_type": "code",
   "execution_count": null,
   "metadata": {},
   "outputs": [],
   "source": [
    "commit_range.unmerged_commits_info(repository, config, contributors)"
   ]
  },
  {
   "cell_type": "markdown",
   "metadata": {},
   "source": [
    "<a id='rules'></a>\n",
    "## Rules [↩](#toc)"
   ]
  },
  {
   "cell_type": "code",
   "execution_count": null,
   "metadata": {},
   "outputs": [],
   "source": [
    "rule_violation_weight_multipliers = mura.rule_info(config, repository, ownership, contributors)"
   ]
  },
  {
   "cell_type": "markdown",
   "metadata": {},
   "source": [
    "<a id='syntax'></a>\n",
    "## Syntax [↩](#toc)"
   ]
  },
  {
   "cell_type": "code",
   "execution_count": null,
   "metadata": {},
   "outputs": [],
   "source": [
    "syntactic_weights = mura.syntax_info()"
   ]
  },
  {
   "cell_type": "markdown",
   "metadata": {},
   "source": [
    "<a id='semantics'></a>\n",
    "## Semantics [↩](#toc)"
   ]
  },
  {
   "cell_type": "code",
   "execution_count": null,
   "metadata": {},
   "outputs": [],
   "source": [
    "semantic_weights = mura.semantic_info(tracked_files, ownership, semantic_analysis_grouped_result)"
   ]
  },
  {
   "cell_type": "markdown",
   "metadata": {},
   "source": [
    "<a id='constructs'></a>\n",
    "## Constructs and ownership [↩](#toc)"
   ]
  },
  {
   "cell_type": "code",
   "execution_count": null,
   "metadata": {},
   "outputs": [],
   "source": [
    "mura.constructs_info(tracked_files, ownership, semantic_analysis_grouped_result)"
   ]
  },
  {
   "cell_type": "markdown",
   "metadata": {},
   "source": [
    "<a id='hour-estimation'></a>\n",
    "## Hour estimation [↩](#toc)"
   ]
  },
  {
   "cell_type": "code",
   "execution_count": null,
   "metadata": {},
   "outputs": [],
   "source": [
    "hour_estimates = mura.hour_estimates(contributors, repository)\n",
    "\n",
    "hour_weights = mura.gaussian_weights(config, hour_estimate_per_contributor, hour_estimates)"
   ]
  },
  {
   "cell_type": "markdown",
   "metadata": {},
   "source": [
    "<a id='remote-repo'></a>\n",
    "## Remote repository [↩](#toc)"
   ]
  },
  {
   "cell_type": "code",
   "execution_count": null,
   "metadata": {},
   "outputs": [],
   "source": [
    "repo_management_weights = mura.remote_info(commit_range, repository, config, contributors)"
   ]
  },
  {
   "cell_type": "markdown",
   "metadata": {},
   "source": [
    "<a id='summary'></a>\n",
    "## Summary [↩](#toc)"
   ]
  },
  {
   "cell_type": "code",
   "execution_count": null,
   "metadata": {},
   "outputs": [],
   "source": [
    "mura.summary_info(contributors, syntactic_weights, semantic_weights, repo_management_weights, rule_violation_weight_multipliers, hour_weights)"
   ]
  },
  {
   "cell_type": "markdown",
   "metadata": {},
   "source": []
  }
 ],
 "metadata": {
  "kernelspec": {
   "display_name": "Python 3 (ipykernel)",
   "language": "python",
   "name": "python3"
  },
  "language_info": {
   "codemirror_mode": {
    "name": "ipython",
    "version": 3
   },
   "file_extension": ".py",
   "mimetype": "text/x-python",
   "name": "python",
   "nbconvert_exporter": "python",
   "pygments_lexer": "ipython3",
   "version": "3.9.13"
  }
 },
 "nbformat": 4,
 "nbformat_minor": 4
}
